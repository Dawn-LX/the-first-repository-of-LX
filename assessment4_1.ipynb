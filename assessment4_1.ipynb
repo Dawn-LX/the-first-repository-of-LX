{
 "cells": [
  {
   "cell_type": "code",
   "execution_count": null,
   "metadata": {},
   "outputs": [],
   "source": [
    "import numpy as np\n",
    "# jupyter nbconvert --to html assessment4_1.ipynb"
   ]
  },
  {
   "cell_type": "code",
   "execution_count": null,
   "metadata": {},
   "outputs": [],
   "source": [
    "%% [markdown]\n",
    "\n",
    "the diagram of the HMM\n",
    "\n",
    "![] (./pic/diagram.png)\n",
    "\n",
    "**emission probabilities**\n",
    "\n",
    "|   |  H   | S   | T   |\n",
    "|---|-----|------|-----|\n",
    "| B | 0.3 | 0.55 | 0.1 |\n",
    "| I | 0.6 | 0.15 | 0.2 |\n",
    "| N | 0.1 | 0.3  | 0.7 |\n",
    "\n",
    "Because E\\[L\\] = 1/p, and α-helices having mean 15 residues\n",
    "\n",
    "Therefore, E\\[L_H\\] = 15 , and a_HH = 1/15\n",
    "\n",
    "Simailarly, a_SS = 1/8 and a_TT = 1/6\n",
    "\n",
    "$$a_HS = (1-a_HH)* 0.3 = 0.280, a_HT = (1-a_HH)*0.7 = 0.653$$\n",
    "\n",
    "Finally we have:\n",
    "\n",
    "| |  H   | S | T |\n",
    "|---|------|---|---|\n",
    "| H | 0.067 | 0.350 | 0.417 |\n",
    "| S | 0.280    | 0.125 | 0.417 |\n",
    "| T | 0.653    | 0.525 | 0.166 |"
   ]
  },
  {
   "cell_type": "code",
   "execution_count": 16,
   "metadata": {},
   "outputs": [
    {
     "output_type": "stream",
     "name": "stdout",
     "text": "[3 6 9]\n"
    }
   ],
   "source": [
    "x = np.array([1,2,3])\n",
    "print(x*3)"
   ]
  },
  {
   "cell_type": "code",
   "execution_count": null,
   "metadata": {},
   "outputs": [],
   "source": []
  }
 ],
 "metadata": {
  "language_info": {
   "codemirror_mode": {
    "name": "ipython",
    "version": 3
   },
   "file_extension": ".py",
   "mimetype": "text/x-python",
   "name": "python",
   "nbconvert_exporter": "python",
   "pygments_lexer": "ipython3",
   "version": "3.7.0-final"
  },
  "orig_nbformat": 2,
  "kernelspec": {
   "name": "python37064bitf13e99c6738847d2bde84655dbe6dc54",
   "display_name": "Python 3.7.0 64-bit"
  }
 },
 "nbformat": 4,
 "nbformat_minor": 2
}